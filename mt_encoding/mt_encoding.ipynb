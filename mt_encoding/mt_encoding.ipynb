{
 "cells": [
  {
   "cell_type": "markdown",
   "id": "9070f680",
   "metadata": {},
   "source": [
    "The data generator creates a dataset with **n** categories, each containing **m** values."
   ]
  },
  {
   "cell_type": "code",
   "execution_count": 2,
   "id": "f7a6efea",
   "metadata": {},
   "outputs": [],
   "source": [
    "import pandas as pd\n",
    "import numpy as np\n",
    "\n",
    "def generate_dataset(n, m, value_type='binary'):\n",
    "\n",
    "    # Generate the categorical values\n",
    "    categories = [f\"Category_{i+1}\" for i in range(n)]\n",
    "    categorical_column = np.repeat(categories, m)\n",
    "\n",
    "    # Generate the 'Value' column based on type\n",
    "    if value_type == 'continuous':\n",
    "        value_column = np.random.rand(n * m)\n",
    "    else:\n",
    "        # default to binary\n",
    "        value_column = np.random.randint(0, 2, size=n * m)\n",
    "\n",
    "    # Create and return the DataFrame\n",
    "    return pd.DataFrame({\n",
    "        'Category': categorical_column,\n",
    "        'Value': value_column\n",
    "    })\n"
   ]
  },
  {
   "cell_type": "markdown",
   "id": "57be8cee",
   "metadata": {},
   "source": [
    "Either consider all possible splits of the categories into two non-empty groups, or only those that follow the order defined by mean target encoding."
   ]
  },
  {
   "cell_type": "code",
   "execution_count": 3,
   "id": "cad96744",
   "metadata": {},
   "outputs": [],
   "source": [
    "from itertools import combinations\n",
    "\n",
    "def all_category_splits(df):\n",
    "    # 1) Sort so tuple-comparison is stable\n",
    "    cats = tuple(sorted(df['Category'].unique()))\n",
    "    n = len(cats)\n",
    "    half = n // 2\n",
    "\n",
    "    for i in range(1, half + 1):\n",
    "        for combo in combinations(cats, i):\n",
    "            # 2) If it's exactly half of an even n, only yield one side:\n",
    "            if i == half and n % 2 == 0:\n",
    "                complement = tuple(c for c in cats if c not in combo)\n",
    "                # lex-skip the “larger” half of each mirror pair\n",
    "                if combo > complement:\n",
    "                    continue\n",
    "\n",
    "            mask = df['Category'].isin(combo)\n",
    "            yield df[mask], df[~mask]\n",
    "\n",
    "def mean_target_encode(df):\n",
    "    mean_map = df.groupby('Category')['Value'].mean().to_dict()\n",
    "    encoded_column = df['Category'].map(mean_map)\n",
    "    return encoded_column, mean_map\n",
    "\n",
    "def ordered_splits(df):\n",
    "    # Perform mean target encoding\n",
    "    encoded_column, mean_map = mean_target_encode(df)\n",
    "    df_encoded = df.copy()\n",
    "    df_encoded['Encoded'] = encoded_column\n",
    "\n",
    "    # Sort by encoded values\n",
    "    df_sorted = df_encoded.sort_values(by='Encoded').reset_index(drop=True)\n",
    "    unique_encoded = df_sorted['Encoded'].unique()\n",
    "\n",
    "    # Generate splits that respect the ordering using a generator\n",
    "    for i in range(1, len(unique_encoded)):\n",
    "        split_val = unique_encoded[i - 1]\n",
    "        left_split = df_sorted[df_sorted['Encoded'] <= split_val]\n",
    "        right_split = df_sorted[df_sorted['Encoded'] > split_val]\n",
    "        if not left_split.empty and not right_split.empty:\n",
    "            yield (left_split, right_split)\n"
   ]
  },
  {
   "cell_type": "markdown",
   "id": "78d6b44c",
   "metadata": {},
   "source": [
    "Gini impurity is a standard splitting criterion for binary classification in decision trees, while mean squared error (MSE) is used for regression tasks."
   ]
  },
  {
   "cell_type": "code",
   "execution_count": 4,
   "id": "ca984a21",
   "metadata": {},
   "outputs": [],
   "source": [
    "def gini_impurity(split):\n",
    "    def gini(group):\n",
    "        total = len(group)\n",
    "        if total == 0:\n",
    "            return 0.0\n",
    "        # count nonzeros and zeros directly\n",
    "        arr = group['Value'].to_numpy()\n",
    "        count_1 = np.count_nonzero(arr)\n",
    "        count_0 = total - count_1\n",
    "        p0 = count_0 / total\n",
    "        p1 = count_1 / total\n",
    "        return 1.0 - (p0 * p0 + p1 * p1)\n",
    "\n",
    "    left, right = split\n",
    "    total_len = len(left) + len(right)\n",
    "    gini_left = gini(left)\n",
    "    gini_right = gini(right)\n",
    "\n",
    "    weighted_gini = (len(left) / total_len) * gini_left + (len(right) / total_len) * gini_right\n",
    "    return weighted_gini\n",
    "\n",
    "def mse_criterion(split):\n",
    "    left, right = split\n",
    "    total = len(left) + len(right)\n",
    "    if total == 0:\n",
    "        return 0.0\n",
    "\n",
    "    def mse(group):\n",
    "        if group.empty:\n",
    "            return 0.0\n",
    "        values = group['Value']\n",
    "        mu = values.mean()\n",
    "        return ((values - mu) ** 2).mean()\n",
    "\n",
    "    mse_left = mse(left)\n",
    "    mse_right = mse(right)\n",
    "    return (len(left) / total) * mse_left + (len(right) / total) * mse_right"
   ]
  },
  {
   "cell_type": "markdown",
   "id": "028442ec",
   "metadata": {},
   "source": [
    "The function returns the Gini impurity of the best split among those generated by the `splits_fn` function."
   ]
  },
  {
   "cell_type": "code",
   "execution_count": 5,
   "id": "d041b8f1",
   "metadata": {},
   "outputs": [],
   "source": [
    "def min_score(df, splits_fn, score_fn):\n",
    "    min_score = float('inf')\n",
    "    for left, right in splits_fn(df):\n",
    "        score = score_fn((left, right))\n",
    "        if score < min_score:\n",
    "            min_score = score\n",
    "    return min_score"
   ]
  },
  {
   "cell_type": "markdown",
   "id": "f1f32fa4",
   "metadata": {},
   "source": [
    "Experiment with varying the cardinality of the categorical variable using either a binary classification target or a continuous regression target.\n"
   ]
  },
  {
   "cell_type": "code",
   "execution_count": 6,
   "id": "5f4513db",
   "metadata": {},
   "outputs": [],
   "source": [
    "import time\n",
    "from tqdm import tqdm\n",
    "\n",
    "def experiment(kvals, value_type):\n",
    "    results = []\n",
    "    if value_type == 'continuous':\n",
    "        score_fn = mse_criterion\n",
    "    else:\n",
    "        score_fn = gini_impurity\n",
    "\n",
    "    for k in kvals:\n",
    "        equal_count = 0\n",
    "        times_all = []\n",
    "        times_ord = []\n",
    "        print(f'Number of distinct categories: {k}')\n",
    "        for exp in tqdm(range(100)):\n",
    "            df = generate_dataset(k, 100, value_type=value_type)\n",
    "\n",
    "            start = time.perf_counter()\n",
    "            score_all = min_score(df, all_category_splits, score_fn=score_fn)\n",
    "            end = time.perf_counter()\n",
    "            times_all.append(end - start)\n",
    "\n",
    "            start = time.perf_counter()\n",
    "            score_ord = min_score(df, ordered_splits, score_fn=score_fn)\n",
    "            end = time.perf_counter()\n",
    "            times_ord.append(end - start)\n",
    "\n",
    "            if round(score_all,10) == round(score_ord,10):\n",
    "                equal_count += 1\n",
    "            else:\n",
    "                print(f\"Discrepancy found for k={k}, exp={exp}: All splits score={score_all}, Ordered splits score={score_ord}\")\n",
    "        \n",
    "        results.append({\n",
    "            'k': k,\n",
    "            'equal_cases': equal_count,\n",
    "            'avg_time_all': sum(times_all) / len(times_all),\n",
    "            'avg_time_ord': sum(times_ord) / len(times_ord)\n",
    "        })\n",
    "\n",
    "    return pd.DataFrame(results)"
   ]
  },
  {
   "cell_type": "markdown",
   "id": "d97ef33c",
   "metadata": {},
   "source": [
    "Plot the experimental results to visualize how different categorical cardinalities affect performance, using separate plots for classification (Gini impurity) and regression (MSE)."
   ]
  },
  {
   "cell_type": "code",
   "execution_count": 9,
   "id": "3261fcac",
   "metadata": {},
   "outputs": [],
   "source": [
    "import matplotlib.pyplot as plt\n",
    "import morethemes as mt\n",
    "\n",
    "def plot_times(df_results):\n",
    "\n",
    "    # Set the desired plotting theme\n",
    "    mt.set_theme(\"darker\")\n",
    "    fig, ax = plt.subplots(figsize=(5, 2.7))\n",
    "\n",
    "    ax.plot(df_results['k'], df_results['avg_time_all'], marker='o', label='all_category_splits')\n",
    "    ax.plot(df_results['k'], df_results['avg_time_ord'], marker='s', label='ordered_splits')\n",
    "\n",
    "    ax.set_yscale('log')\n",
    "    ax.set_xlabel('Number of Categories (k)')\n",
    "    ax.set_ylabel('Average Execution Time (seconds)')\n",
    "    # ax.set_title('Classification - Gini Impurity')\n",
    "    ax.legend()\n",
    "\n",
    "    plt.tight_layout()\n"
   ]
  },
  {
   "cell_type": "markdown",
   "id": "b5a78796",
   "metadata": {},
   "source": [
    "#### Binary Target — Gini Impurity\n"
   ]
  },
  {
   "cell_type": "code",
   "execution_count": 13,
   "id": "f881bc85",
   "metadata": {},
   "outputs": [
    {
     "name": "stdout",
     "output_type": "stream",
     "text": [
      "Number of distinct categories: 4\n"
     ]
    },
    {
     "name": "stderr",
     "output_type": "stream",
     "text": [
      "100%|██████████| 100/100 [00:00<00:00, 169.24it/s]\n"
     ]
    },
    {
     "name": "stdout",
     "output_type": "stream",
     "text": [
      "Number of distinct categories: 5\n"
     ]
    },
    {
     "name": "stderr",
     "output_type": "stream",
     "text": [
      "100%|██████████| 100/100 [00:00<00:00, 122.53it/s]\n"
     ]
    },
    {
     "name": "stdout",
     "output_type": "stream",
     "text": [
      "Number of distinct categories: 6\n"
     ]
    },
    {
     "name": "stderr",
     "output_type": "stream",
     "text": [
      "100%|██████████| 100/100 [00:01<00:00, 70.02it/s]\n"
     ]
    },
    {
     "name": "stdout",
     "output_type": "stream",
     "text": [
      "Number of distinct categories: 7\n"
     ]
    },
    {
     "name": "stderr",
     "output_type": "stream",
     "text": [
      "100%|██████████| 100/100 [00:02<00:00, 33.89it/s]\n"
     ]
    },
    {
     "name": "stdout",
     "output_type": "stream",
     "text": [
      "Number of distinct categories: 8\n"
     ]
    },
    {
     "name": "stderr",
     "output_type": "stream",
     "text": [
      "100%|██████████| 100/100 [00:05<00:00, 19.38it/s]\n"
     ]
    },
    {
     "name": "stdout",
     "output_type": "stream",
     "text": [
      "Number of distinct categories: 9\n"
     ]
    },
    {
     "name": "stderr",
     "output_type": "stream",
     "text": [
      "100%|██████████| 100/100 [00:09<00:00, 10.04it/s]\n"
     ]
    },
    {
     "name": "stdout",
     "output_type": "stream",
     "text": [
      "Number of distinct categories: 10\n"
     ]
    },
    {
     "name": "stderr",
     "output_type": "stream",
     "text": [
      "100%|██████████| 100/100 [00:20<00:00,  4.98it/s]\n"
     ]
    },
    {
     "name": "stdout",
     "output_type": "stream",
     "text": [
      "Number of distinct categories: 11\n"
     ]
    },
    {
     "name": "stderr",
     "output_type": "stream",
     "text": [
      "100%|██████████| 100/100 [00:40<00:00,  2.48it/s]\n"
     ]
    },
    {
     "name": "stdout",
     "output_type": "stream",
     "text": [
      "Number of distinct categories: 12\n"
     ]
    },
    {
     "name": "stderr",
     "output_type": "stream",
     "text": [
      "100%|██████████| 100/100 [01:22<00:00,  1.21it/s]\n"
     ]
    },
    {
     "data": {
      "image/png": "[encoded data removed]",
      "text/plain": [
       "<Figure size 500x270 with 1 Axes>"
      ]
     },
     "metadata": {},
     "output_type": "display_data"
    }
   ],
   "source": [
    "df_results = experiment(range(4, 13), value_type='binary')\n",
    "\n",
    "plot_times(df_results)\n",
    "plt.show()"
   ]
  },
  {
   "cell_type": "markdown",
   "id": "8d7da4e0",
   "metadata": {},
   "source": [
    "#### Regression Target — Mean Squared Error"
   ]
  },
  {
   "cell_type": "code",
   "execution_count": null,
   "id": "9f8980bf",
   "metadata": {},
   "outputs": [
    {
     "name": "stdout",
     "output_type": "stream",
     "text": [
      "Number of distinct categories: 4\n"
     ]
    },
    {
     "name": "stderr",
     "output_type": "stream",
     "text": [
      "100%|██████████| 100/100 [00:00<00:00, 137.52it/s]\n"
     ]
    },
    {
     "name": "stdout",
     "output_type": "stream",
     "text": [
      "Number of distinct categories: 5\n"
     ]
    },
    {
     "name": "stderr",
     "output_type": "stream",
     "text": [
      "100%|██████████| 100/100 [00:01<00:00, 79.05it/s]\n"
     ]
    },
    {
     "name": "stdout",
     "output_type": "stream",
     "text": [
      "Number of distinct categories: 6\n"
     ]
    },
    {
     "name": "stderr",
     "output_type": "stream",
     "text": [
      "100%|██████████| 100/100 [00:02<00:00, 42.08it/s]\n"
     ]
    },
    {
     "name": "stdout",
     "output_type": "stream",
     "text": [
      "Number of distinct categories: 7\n"
     ]
    },
    {
     "name": "stderr",
     "output_type": "stream",
     "text": [
      "100%|██████████| 100/100 [00:04<00:00, 21.77it/s]\n"
     ]
    },
    {
     "name": "stdout",
     "output_type": "stream",
     "text": [
      "Number of distinct categories: 8\n"
     ]
    },
    {
     "name": "stderr",
     "output_type": "stream",
     "text": [
      "100%|██████████| 100/100 [00:08<00:00, 11.47it/s]\n"
     ]
    },
    {
     "name": "stdout",
     "output_type": "stream",
     "text": [
      "Number of distinct categories: 9\n"
     ]
    },
    {
     "name": "stderr",
     "output_type": "stream",
     "text": [
      "100%|██████████| 100/100 [00:17<00:00,  5.77it/s]\n"
     ]
    }
   ],
   "source": [
    "df_results_cont = experiment(range(4, 10), value_type='continuous')\n",
    "plot_times(df_results_cont)\n",
    "plt.show()"
   ]
  },
  {
   "cell_type": "markdown",
   "id": "c093b276",
   "metadata": {},
   "source": [
    "This is not required for the current experiment but could be valuable for other applications.\n"
   ]
  },
  {
   "cell_type": "code",
   "execution_count": null,
   "id": "d84abf47",
   "metadata": {},
   "outputs": [],
   "source": [
    "def mean_target_decode(encoded_column, mean_map):\n",
    "    reverse_map = {v: k for k, v in mean_map.items()}\n",
    "    decoded_column = encoded_column.map(reverse_map)\n",
    "    return decoded_column"
   ]
  }
 ],
 "metadata": {
  "kernelspec": {
   "display_name": "medium",
   "language": "python",
   "name": "python3"
  },
  "language_info": {
   "codemirror_mode": {
    "name": "ipython",
    "version": 3
   },
   "file_extension": ".py",
   "mimetype": "text/x-python",
   "name": "python",
   "nbconvert_exporter": "python",
   "pygments_lexer": "ipython3",
   "version": "3.12.7"
  }
 },
 "nbformat": 4,
 "nbformat_minor": 5
}
